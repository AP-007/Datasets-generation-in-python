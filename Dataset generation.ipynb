{
 "cells": [
  {
   "cell_type": "code",
   "execution_count": 1,
   "id": "60cd5f3f",
   "metadata": {},
   "outputs": [],
   "source": [
    "import pandas as pd\n",
    "import random\n",
    "from faker import Faker\n",
    "\n",
    "fake = Faker()\n",
    "\n",
    "def generate_email():\n",
    "    return fake.email()\n",
    "\n",
    "def generate_category():\n",
    "    categories = ['Electronics', 'Clothing', 'Home & Garden', 'Books', 'Sports & Outdoors']\n",
    "    return random.choice(categories)\n",
    "\n",
    "def generate_product_name():\n",
    "    adjectives = ['Premium', 'Deluxe', 'High-quality', 'Eco-friendly', 'Fashionable']\n",
    "    nouns = ['Laptop', 'Dress', 'Furniture', 'Book', 'Outdoor Gear']\n",
    "    return f'{random.choice(adjectives)} {random.choice(nouns)}'\n",
    "\n",
    "australian_states = ['New South Wales', 'Victoria', 'Queensland', 'Western Australia', 'South Australia', 'Tasmania', 'Australian Capital Territory', 'Northern Territory']\n",
    "\n",
    "data = {\n",
    "    'order_id': [str(i+1) for i in range(50000)],\n",
    "    'user_id': [str(i+1) for i in range(50000)],\n",
    "    'name': [fake.name() for _ in range(50000)],\n",
    "    'email': [generate_email() for _ in range(50000)],\n",
    "    'state': [random.choice(australian_states) for _ in range(50000)],\n",
    "    'city': [fake.city() for _ in range(50000)],\n",
    "    'country': ['Australia' for _ in range(50000)],  # Since it's all in Australia\n",
    "    'street_address': [fake.street_address() for _ in range(50000)],\n",
    "    'order_date': [fake.date_time_between(start_date='-2y', end_date='now') for _ in range(50000)],\n",
    "    'category': [generate_category() for _ in range(50000)],\n",
    "    'product_name': [generate_product_name() for _ in range(50000)],\n",
    "    'quantity': [random.randint(1, 5) for _ in range(50000)],\n",
    "    'unit_price': [round(random.uniform(10, 500), 2) for _ in range(50000)],\n",
    "    'total_price': [round(random.uniform(10, 500), 2) for _ in range(50000)],\n",
    "    'payment_method': [random.choice(['Credit Card', 'PayPal', 'Afterpay']) for _ in range(50000)],\n",
    "}\n",
    "\n",
    "df = pd.DataFrame(data)\n",
    "\n",
    "df.to_excel('ecommerce_data.xlsx', index=False)\n"
   ]
  },
  {
   "cell_type": "code",
   "execution_count": 2,
   "id": "acbc84c6",
   "metadata": {},
   "outputs": [
    {
     "name": "stdout",
     "output_type": "stream",
     "text": [
      "Requirement already satisfied: Faker in c:\\users\\adarsha poudel\\anaconda3\\lib\\site-packages (19.6.2)\n",
      "Requirement already satisfied: python-dateutil>=2.4 in c:\\users\\adarsha poudel\\anaconda3\\lib\\site-packages (from Faker) (2.8.2)\n",
      "Requirement already satisfied: six>=1.5 in c:\\users\\adarsha poudel\\anaconda3\\lib\\site-packages (from python-dateutil>=2.4->Faker) (1.16.0)\n"
     ]
    }
   ],
   "source": [
    "!pip install Faker"
   ]
  },
  {
   "cell_type": "code",
   "execution_count": null,
   "id": "a0c847ab",
   "metadata": {},
   "outputs": [],
   "source": []
  }
 ],
 "metadata": {
  "kernelspec": {
   "display_name": "Python 3 (ipykernel)",
   "language": "python",
   "name": "python3"
  },
  "language_info": {
   "codemirror_mode": {
    "name": "ipython",
    "version": 3
   },
   "file_extension": ".py",
   "mimetype": "text/x-python",
   "name": "python",
   "nbconvert_exporter": "python",
   "pygments_lexer": "ipython3",
   "version": "3.11.4"
  }
 },
 "nbformat": 4,
 "nbformat_minor": 5
}
